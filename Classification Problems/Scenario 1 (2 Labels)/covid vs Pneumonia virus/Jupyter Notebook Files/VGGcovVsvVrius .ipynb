{
 "cells": [
  {
   "cell_type": "code",
   "execution_count": 1,
   "metadata": {},
   "outputs": [],
   "source": [
    "# import the necessary packages\n",
    "from tensorflow.keras.preprocessing.image import ImageDataGenerator\n",
    "from tensorflow.keras.applications import VGG16,ResNet50V2\n",
    "from tensorflow.keras.layers import AveragePooling2D\n",
    "from tensorflow.keras.layers import Dropout\n",
    "from tensorflow.keras.layers import Flatten\n",
    "from tensorflow.keras.layers import Dense\n",
    "from tensorflow.keras.layers import Input\n",
    "from tensorflow.keras.models import Model\n",
    "from tensorflow.keras.optimizers import Adam\n",
    "from tensorflow.keras.utils import to_categorical\n",
    "from sklearn.preprocessing import LabelBinarizer\n",
    "from sklearn.model_selection import train_test_split\n",
    "from sklearn.metrics import classification_report\n",
    "from sklearn.metrics import confusion_matrix\n",
    "from imutils import paths\n",
    "import matplotlib.pyplot as plt\n",
    "import numpy as np\n",
    "import argparse\n",
    "import cv2\n",
    "import os"
   ]
  },
  {
   "cell_type": "code",
   "execution_count": 2,
   "metadata": {},
   "outputs": [],
   "source": [
    "import sys\n",
    "sys.argv[1:]\n",
    "sys.argv[1:] = '-d dataset -p plot -m model'.split()\n"
   ]
  },
  {
   "cell_type": "code",
   "execution_count": 3,
   "metadata": {},
   "outputs": [],
   "source": [
    "# construct the argument parser and parse the arguments\n",
    "ap = argparse.ArgumentParser()\n",
    "ap.add_argument(\"-d\", \"--dataset\", required=True,help=\"path to input dataset\")\n",
    "ap.add_argument(\"-p\", \"--plot\", type=str, default=\"plot.png\",help=\"path to output loss/accuracy plot\")\n",
    "ap.add_argument(\"-m\", \"--model\", type=str, default=\"covid19.model\",help=\"path to output loss/accuracy plot\")\n",
    "\n",
    "args = vars(ap.parse_args())\n",
    "# initialize the initial learning rate, number of epochs to train for,\n",
    "# and batch size\n",
    "INIT_LR = 1e-3\n",
    "EPOCHS = 25\n",
    "BS = 8"
   ]
  },
  {
   "cell_type": "code",
   "execution_count": 4,
   "metadata": {},
   "outputs": [
    {
     "name": "stdout",
     "output_type": "stream",
     "text": [
      "[INFO] loading images...\n"
     ]
    }
   ],
   "source": [
    "# grab the list of images in our dataset directory, then initialize\n",
    "# the list of data (i.e., images) and class images\n",
    "print(\"[INFO] loading images...\")\n",
    "imagePaths = list(paths.list_images(args[\"dataset\"]))\n",
    "data = []\n",
    "labels = []\n",
    "# loop over the image paths\n",
    "for imagePath in imagePaths:\n",
    "\t# extract the class label from the filename\n",
    "\tlabel = imagePath.split(os.path.sep)[-2]\n",
    "\t# load the image, swap color channels, and resize it to be a fixed\n",
    "\t# 224x224 pixels while ignoring aspect ratio\n",
    "\timage = cv2.imread(imagePath)\n",
    "\timage = cv2.cvtColor(image, cv2.COLOR_BGR2RGB)\n",
    "\timage = cv2.resize(image, (224, 224))\n",
    "\t# update the data and labels lists, respectively\n",
    "\tdata.append(image)\n",
    "\tlabels.append(label)\n",
    "# convert the data and labels to NumPy arrays while scaling the pixel\n",
    "# intensities to the range [0, 1]\n",
    "data = np.array(data) / 255.0\n",
    "labels = np.array(labels)"
   ]
  },
  {
   "cell_type": "code",
   "execution_count": 5,
   "metadata": {},
   "outputs": [
    {
     "name": "stdout",
     "output_type": "stream",
     "text": [
      "420\n",
      "420\n"
     ]
    }
   ],
   "source": [
    "print(len(labels))\n",
    "print(len(data))"
   ]
  },
  {
   "cell_type": "code",
   "execution_count": 6,
   "metadata": {},
   "outputs": [],
   "source": [
    "# perform one-hot encoding on the labels\n",
    "lb = LabelBinarizer()\n",
    "labels = lb.fit_transform(labels)\n",
    "labels = to_categorical(labels)\n",
    "# partition the data into training and testing splits using 80% of\n",
    "# the data for training and the remaining 20% for testing\n",
    "(trainX, testX, trainY, testY) = train_test_split(data, labels,\n",
    "\ttest_size=0.20, stratify=labels, random_state=42)\n",
    "# initialize the training data augmentation object\n"
   ]
  },
  {
   "cell_type": "code",
   "execution_count": 7,
   "metadata": {},
   "outputs": [],
   "source": [
    "trainAug = ImageDataGenerator(\n",
    "    rotation_range=15,\n",
    "    fill_mode=\"nearest\")"
   ]
  },
  {
   "cell_type": "code",
   "execution_count": 8,
   "metadata": {},
   "outputs": [
    {
     "name": "stdout",
     "output_type": "stream",
     "text": [
      "Train Data:\n",
      "336\n",
      "Train labels:\n",
      "336\n",
      "Test Data:\n",
      "84\n",
      "Test labels:\n",
      "84\n"
     ]
    }
   ],
   "source": [
    "print(\"Train Data:\")\n",
    "print(len(trainX))\n",
    "print(\"Train labels:\")\n",
    "print(len(trainY))\n",
    "print(\"Test Data:\")\n",
    "print(len(testX))\n",
    "print(\"Test labels:\")\n",
    "print(len(testY))"
   ]
  },
  {
   "cell_type": "code",
   "execution_count": 9,
   "metadata": {},
   "outputs": [],
   "source": [
    "# load the VGG16 network, ensuring the head FC layer sets are left\n",
    "# off\n",
    "baseModel = VGG16(weights=\"imagenet\", include_top=False,\n",
    "\tinput_tensor=Input(shape=(224, 224, 3)))\n",
    "# construct the head of the model that will be placed on top of the\n",
    "# the base model\n",
    "headModel = baseModel.output\n",
    "headModel = AveragePooling2D(pool_size=(2, 2))(headModel)\n",
    "headModel = Flatten(name=\"flatten\")(headModel)\n",
    "headModel = Dense(64, activation=\"relu\")(headModel)\n",
    "headModel = Dropout(0.3)(headModel)\n",
    "headModel = Dense(2, activation=\"softmax\")(headModel)\n",
    "# place the head FC model on top of the base model (this will become\n",
    "# the actual model we will train)\n",
    "model = Model(inputs=baseModel.input, outputs=headModel)\n",
    "# loop over all layers in the base model and freeze them so they will\n",
    "# *not* be updated during the first training process\n"
   ]
  },
  {
   "cell_type": "code",
   "execution_count": 10,
   "metadata": {},
   "outputs": [],
   "source": [
    "for layer in baseModel.layers:\n",
    "    layer.trainable = False"
   ]
  },
  {
   "cell_type": "code",
   "execution_count": 11,
   "metadata": {},
   "outputs": [
    {
     "name": "stdout",
     "output_type": "stream",
     "text": [
      "Model: \"model\"\n",
      "_________________________________________________________________\n",
      "Layer (type)                 Output Shape              Param #   \n",
      "=================================================================\n",
      "input_1 (InputLayer)         [(None, 224, 224, 3)]     0         \n",
      "_________________________________________________________________\n",
      "block1_conv1 (Conv2D)        (None, 224, 224, 64)      1792      \n",
      "_________________________________________________________________\n",
      "block1_conv2 (Conv2D)        (None, 224, 224, 64)      36928     \n",
      "_________________________________________________________________\n",
      "block1_pool (MaxPooling2D)   (None, 112, 112, 64)      0         \n",
      "_________________________________________________________________\n",
      "block2_conv1 (Conv2D)        (None, 112, 112, 128)     73856     \n",
      "_________________________________________________________________\n",
      "block2_conv2 (Conv2D)        (None, 112, 112, 128)     147584    \n",
      "_________________________________________________________________\n",
      "block2_pool (MaxPooling2D)   (None, 56, 56, 128)       0         \n",
      "_________________________________________________________________\n",
      "block3_conv1 (Conv2D)        (None, 56, 56, 256)       295168    \n",
      "_________________________________________________________________\n",
      "block3_conv2 (Conv2D)        (None, 56, 56, 256)       590080    \n",
      "_________________________________________________________________\n",
      "block3_conv3 (Conv2D)        (None, 56, 56, 256)       590080    \n",
      "_________________________________________________________________\n",
      "block3_pool (MaxPooling2D)   (None, 28, 28, 256)       0         \n",
      "_________________________________________________________________\n",
      "block4_conv1 (Conv2D)        (None, 28, 28, 512)       1180160   \n",
      "_________________________________________________________________\n",
      "block4_conv2 (Conv2D)        (None, 28, 28, 512)       2359808   \n",
      "_________________________________________________________________\n",
      "block4_conv3 (Conv2D)        (None, 28, 28, 512)       2359808   \n",
      "_________________________________________________________________\n",
      "block4_pool (MaxPooling2D)   (None, 14, 14, 512)       0         \n",
      "_________________________________________________________________\n",
      "block5_conv1 (Conv2D)        (None, 14, 14, 512)       2359808   \n",
      "_________________________________________________________________\n",
      "block5_conv2 (Conv2D)        (None, 14, 14, 512)       2359808   \n",
      "_________________________________________________________________\n",
      "block5_conv3 (Conv2D)        (None, 14, 14, 512)       2359808   \n",
      "_________________________________________________________________\n",
      "block5_pool (MaxPooling2D)   (None, 7, 7, 512)         0         \n",
      "_________________________________________________________________\n",
      "average_pooling2d (AveragePo (None, 3, 3, 512)         0         \n",
      "_________________________________________________________________\n",
      "flatten (Flatten)            (None, 4608)              0         \n",
      "_________________________________________________________________\n",
      "dense (Dense)                (None, 64)                294976    \n",
      "_________________________________________________________________\n",
      "dropout (Dropout)            (None, 64)                0         \n",
      "_________________________________________________________________\n",
      "dense_1 (Dense)              (None, 2)                 130       \n",
      "=================================================================\n",
      "Total params: 15,009,794\n",
      "Trainable params: 295,106\n",
      "Non-trainable params: 14,714,688\n",
      "_________________________________________________________________\n"
     ]
    }
   ],
   "source": [
    "model.summary()"
   ]
  },
  {
   "cell_type": "code",
   "execution_count": 12,
   "metadata": {},
   "outputs": [
    {
     "name": "stdout",
     "output_type": "stream",
     "text": [
      "WARNING:tensorflow:`period` argument is deprecated. Please use `save_freq` to specify the frequency in number of batches seen.\n",
      "WARNING:tensorflow:From <ipython-input-12-effac4ddca8c>:14: Model.fit_generator (from tensorflow.python.keras.engine.training) is deprecated and will be removed in a future version.\n",
      "Instructions for updating:\n",
      "Please use Model.fit, which supports generators.\n",
      "Epoch 1/25\n",
      "42/42 [==============================] - ETA: 0s - loss: 0.3056 - accuracy: 0.8988\n",
      "Epoch 00001: loss improved from inf to 0.30563, saving model to 2classVGGCOvvsViru.hdf5\n",
      "42/42 [==============================] - 88s 2s/step - loss: 0.3056 - accuracy: 0.8988 - val_loss: 0.1630 - val_accuracy: 0.9524\n",
      "Epoch 2/25\n",
      "42/42 [==============================] - ETA: 0s - loss: 0.1431 - accuracy: 0.9583\n",
      "Epoch 00002: loss improved from 0.30563 to 0.14310, saving model to 2classVGGCOvvsViru.hdf5\n",
      "42/42 [==============================] - 87s 2s/step - loss: 0.1431 - accuracy: 0.9583 - val_loss: 0.0832 - val_accuracy: 0.9643\n",
      "Epoch 3/25\n",
      "42/42 [==============================] - ETA: 0s - loss: 0.0816 - accuracy: 0.9762\n",
      "Epoch 00003: loss improved from 0.14310 to 0.08160, saving model to 2classVGGCOvvsViru.hdf5\n",
      "42/42 [==============================] - 83s 2s/step - loss: 0.0816 - accuracy: 0.9762 - val_loss: 0.1053 - val_accuracy: 0.9881\n",
      "Epoch 4/25\n",
      "42/42 [==============================] - ETA: 0s - loss: 0.0974 - accuracy: 0.9702\n",
      "Epoch 00004: loss did not improve from 0.08160\n",
      "42/42 [==============================] - 90s 2s/step - loss: 0.0974 - accuracy: 0.9702 - val_loss: 0.0654 - val_accuracy: 0.9762\n",
      "Epoch 5/25\n",
      "42/42 [==============================] - ETA: 0s - loss: 0.0542 - accuracy: 0.9881\n",
      "Epoch 00005: loss improved from 0.08160 to 0.05421, saving model to 2classVGGCOvvsViru.hdf5\n",
      "42/42 [==============================] - 92s 2s/step - loss: 0.0542 - accuracy: 0.9881 - val_loss: 0.0650 - val_accuracy: 0.9762\n",
      "Epoch 6/25\n",
      "42/42 [==============================] - ETA: 0s - loss: 0.0468 - accuracy: 0.9911\n",
      "Epoch 00006: loss improved from 0.05421 to 0.04681, saving model to 2classVGGCOvvsViru.hdf5\n",
      "42/42 [==============================] - 87s 2s/step - loss: 0.0468 - accuracy: 0.9911 - val_loss: 0.0599 - val_accuracy: 0.9762\n",
      "Epoch 7/25\n",
      "42/42 [==============================] - ETA: 0s - loss: 0.0330 - accuracy: 0.9940\n",
      "Epoch 00007: loss improved from 0.04681 to 0.03302, saving model to 2classVGGCOvvsViru.hdf5\n",
      "42/42 [==============================] - 97s 2s/step - loss: 0.0330 - accuracy: 0.9940 - val_loss: 0.0657 - val_accuracy: 0.9881\n",
      "Epoch 8/25\n",
      "42/42 [==============================] - ETA: 0s - loss: 0.0404 - accuracy: 0.9881\n",
      "Epoch 00008: loss did not improve from 0.03302\n",
      "42/42 [==============================] - 104s 2s/step - loss: 0.0404 - accuracy: 0.9881 - val_loss: 0.0697 - val_accuracy: 0.9881\n",
      "Epoch 9/25\n",
      "42/42 [==============================] - ETA: 0s - loss: 0.0417 - accuracy: 0.9881\n",
      "Epoch 00009: loss did not improve from 0.03302\n",
      "42/42 [==============================] - 98s 2s/step - loss: 0.0417 - accuracy: 0.9881 - val_loss: 0.0602 - val_accuracy: 0.9762\n",
      "Epoch 10/25\n",
      "42/42 [==============================] - ETA: 0s - loss: 0.0287 - accuracy: 0.9940\n",
      "Epoch 00010: loss improved from 0.03302 to 0.02870, saving model to 2classVGGCOvvsViru.hdf5\n",
      "42/42 [==============================] - 85s 2s/step - loss: 0.0287 - accuracy: 0.9940 - val_loss: 0.0544 - val_accuracy: 0.9762\n",
      "Epoch 11/25\n",
      "42/42 [==============================] - ETA: 0s - loss: 0.0222 - accuracy: 0.9940\n",
      "Epoch 00011: loss improved from 0.02870 to 0.02216, saving model to 2classVGGCOvvsViru.hdf5\n",
      "42/42 [==============================] - 78s 2s/step - loss: 0.0222 - accuracy: 0.9940 - val_loss: 0.0523 - val_accuracy: 0.9881\n",
      "Epoch 12/25\n",
      "42/42 [==============================] - ETA: 0s - loss: 0.0170 - accuracy: 0.9970\n",
      "Epoch 00012: loss improved from 0.02216 to 0.01705, saving model to 2classVGGCOvvsViru.hdf5\n",
      "42/42 [==============================] - 73s 2s/step - loss: 0.0170 - accuracy: 0.9970 - val_loss: 0.0473 - val_accuracy: 0.9881\n",
      "Epoch 13/25\n",
      "42/42 [==============================] - ETA: 0s - loss: 0.0165 - accuracy: 0.9970\n",
      "Epoch 00013: loss improved from 0.01705 to 0.01651, saving model to 2classVGGCOvvsViru.hdf5\n",
      "42/42 [==============================] - 73s 2s/step - loss: 0.0165 - accuracy: 0.9970 - val_loss: 0.0541 - val_accuracy: 0.9881\n",
      "Epoch 14/25\n",
      "42/42 [==============================] - ETA: 0s - loss: 0.0219 - accuracy: 0.9940\n",
      "Epoch 00014: loss did not improve from 0.01651\n",
      "42/42 [==============================] - 71s 2s/step - loss: 0.0219 - accuracy: 0.9940 - val_loss: 0.0577 - val_accuracy: 0.9762\n",
      "Epoch 15/25\n",
      "42/42 [==============================] - ETA: 0s - loss: 0.0248 - accuracy: 0.9911\n",
      "Epoch 00015: loss did not improve from 0.01651\n",
      "42/42 [==============================] - 90s 2s/step - loss: 0.0248 - accuracy: 0.9911 - val_loss: 0.0649 - val_accuracy: 0.9881\n",
      "Epoch 16/25\n",
      "42/42 [==============================] - ETA: 0s - loss: 0.0145 - accuracy: 1.0000\n",
      "Epoch 00016: loss improved from 0.01651 to 0.01455, saving model to 2classVGGCOvvsViru.hdf5\n",
      "42/42 [==============================] - 92s 2s/step - loss: 0.0145 - accuracy: 1.0000 - val_loss: 0.0580 - val_accuracy: 0.9881\n",
      "Epoch 17/25\n",
      "42/42 [==============================] - ETA: 0s - loss: 0.0114 - accuracy: 0.9970\n",
      "Epoch 00017: loss improved from 0.01455 to 0.01142, saving model to 2classVGGCOvvsViru.hdf5\n",
      "42/42 [==============================] - 90s 2s/step - loss: 0.0114 - accuracy: 0.9970 - val_loss: 0.0562 - val_accuracy: 0.9881\n",
      "Epoch 18/25\n",
      "42/42 [==============================] - ETA: 0s - loss: 0.0142 - accuracy: 0.9940\n",
      "Epoch 00018: loss did not improve from 0.01142\n",
      "42/42 [==============================] - 92s 2s/step - loss: 0.0142 - accuracy: 0.9940 - val_loss: 0.0515 - val_accuracy: 0.9762\n",
      "Epoch 19/25\n",
      "42/42 [==============================] - ETA: 0s - loss: 0.0085 - accuracy: 1.0000\n",
      "Epoch 00019: loss improved from 0.01142 to 0.00852, saving model to 2classVGGCOvvsViru.hdf5\n",
      "42/42 [==============================] - 78s 2s/step - loss: 0.0085 - accuracy: 1.0000 - val_loss: 0.0578 - val_accuracy: 0.9881\n",
      "Epoch 20/25\n",
      "42/42 [==============================] - ETA: 0s - loss: 0.0028 - accuracy: 1.0000\n",
      "Epoch 00020: loss improved from 0.00852 to 0.00282, saving model to 2classVGGCOvvsViru.hdf5\n",
      "42/42 [==============================] - 69s 2s/step - loss: 0.0028 - accuracy: 1.0000 - val_loss: 0.0569 - val_accuracy: 0.9881\n",
      "Epoch 21/25\n",
      "42/42 [==============================] - ETA: 0s - loss: 0.0018 - accuracy: 1.0000\n",
      "Epoch 00021: loss improved from 0.00282 to 0.00184, saving model to 2classVGGCOvvsViru.hdf5\n",
      "42/42 [==============================] - 70s 2s/step - loss: 0.0018 - accuracy: 1.0000 - val_loss: 0.0492 - val_accuracy: 0.9881\n",
      "Epoch 22/25\n",
      "42/42 [==============================] - ETA: 0s - loss: 0.0033 - accuracy: 1.0000\n",
      "Epoch 00022: loss did not improve from 0.00184\n",
      "42/42 [==============================] - 82s 2s/step - loss: 0.0033 - accuracy: 1.0000 - val_loss: 0.0538 - val_accuracy: 0.9881\n",
      "Epoch 23/25\n",
      "42/42 [==============================] - ETA: 0s - loss: 0.0041 - accuracy: 1.0000\n",
      "Epoch 00023: loss did not improve from 0.00184\n",
      "42/42 [==============================] - 79s 2s/step - loss: 0.0041 - accuracy: 1.0000 - val_loss: 0.0527 - val_accuracy: 0.9881\n",
      "Epoch 24/25\n",
      "42/42 [==============================] - ETA: 0s - loss: 0.0041 - accuracy: 1.0000\n",
      "Epoch 00024: loss did not improve from 0.00184\n",
      "42/42 [==============================] - 78s 2s/step - loss: 0.0041 - accuracy: 1.0000 - val_loss: 0.0622 - val_accuracy: 0.9881\n",
      "Epoch 25/25\n",
      "42/42 [==============================] - ETA: 0s - loss: 0.0033 - accuracy: 1.0000\n",
      "Epoch 00025: loss did not improve from 0.00184\n",
      "42/42 [==============================] - 76s 2s/step - loss: 0.0033 - accuracy: 1.0000 - val_loss: 0.0511 - val_accuracy: 0.9881\n"
     ]
    }
   ],
   "source": [
    "# compile our model\n",
    "opt = Adam(lr=0.001, decay=INIT_LR / 25)\n",
    "model.compile(loss=\"binary_crossentropy\", optimizer=opt,\n",
    "\tmetrics=[\"accuracy\"])\n",
    "# train the head of the network\n",
    "from tensorflow.keras.callbacks import ModelCheckpoint\n",
    "checkpoint = ModelCheckpoint(\"2classVGGCOvvsViru.hdf5\", monitor='loss', verbose=1,\n",
    "                             save_best_only=True, mode='auto', period=1)\n",
    "H = model.fit_generator(\n",
    "\ttrainAug.flow(trainX, trainY, batch_size=BS),\n",
    "\tsteps_per_epoch=len(trainX) // BS,\n",
    "\tvalidation_data=(testX, testY),\n",
    "\tvalidation_steps=len(testX) // BS,\n",
    "\tepochs=25,callbacks=[checkpoint])"
   ]
  },
  {
   "cell_type": "code",
   "execution_count": 13,
   "metadata": {},
   "outputs": [
    {
     "name": "stdout",
     "output_type": "stream",
     "text": [
      "[INFO] evaluating network...\n",
      "                precision    recall  f1-score   support\n",
      "\n",
      "         covid       0.98      1.00      0.99        43\n",
      "pnemonia_virus       1.00      0.98      0.99        41\n",
      "\n",
      "      accuracy                           0.99        84\n",
      "     macro avg       0.99      0.99      0.99        84\n",
      "  weighted avg       0.99      0.99      0.99        84\n",
      "\n"
     ]
    }
   ],
   "source": [
    "# make predictions on the testing set\n",
    "print(\"[INFO] evaluating network...\")\n",
    "predIdxs = model.predict(testX, batch_size=BS)\n",
    "# for each image in the testing set we need to find the index of the\n",
    "# label with corresponding largest predicted probability\n",
    "predIdxs = np.argmax(predIdxs, axis=1)\n",
    "# show a nicely formatted classification report\n",
    "print(classification_report(testY.argmax(axis=1), predIdxs,\n",
    "\ttarget_names=lb.classes_))"
   ]
  },
  {
   "cell_type": "code",
   "execution_count": 21,
   "metadata": {},
   "outputs": [
    {
     "name": "stdout",
     "output_type": "stream",
     "text": [
      "[[43  0]\n",
      " [ 1 40]]\n",
      "acc: 0.9881\n",
      "sensitivity: 1.0000\n",
      "specificity: 0.9756\n"
     ]
    }
   ],
   "source": [
    "# compute the confusion matrix and and use it to derive the raw\n",
    "# accuracy, sensitivity, and specificity\n",
    "cm = confusion_matrix(testY.argmax(axis=1), predIdxs)\n",
    "total = sum(sum(cm)) \n",
    "acc = (cm[0, 0] + cm[1, 1]) / total\n",
    "sensitivity = cm[0, 0] / (cm[0, 0] + cm[0, 1])\n",
    "specificity = cm[1, 1] / (cm[1, 0] + cm[1, 1])\n",
    "# show the confusion matrix, accuracy, sensitivity, and specificity\n",
    "print(cm)\n",
    "print(\"acc: {:.4f}\".format(acc))\n",
    "print(\"sensitivity: {:.4f}\".format(sensitivity))\n",
    "print(\"specificity: {:.4f}\".format(specificity))"
   ]
  },
  {
   "cell_type": "code",
   "execution_count": 22,
   "metadata": {},
   "outputs": [
    {
     "data": {
      "image/png": "[encoded data removed]",
      "text/plain": [
       "<Figure size 432x288 with 1 Axes>"
      ]
     },
     "metadata": {},
     "output_type": "display_data"
    }
   ],
   "source": [
    "# plot the training loss and accuracy\n",
    "N = 25\n",
    "plt.style.use(\"ggplot\")\n",
    "plt.figure()\n",
    "plt.plot(np.arange(0, N), H.history[\"loss\"], label=\"train_loss\")\n",
    "plt.plot(np.arange(0, N), H.history[\"val_loss\"], label=\"val_loss\")\n",
    "plt.plot(np.arange(0, N), H.history[\"accuracy\"], label=\"train_acc\")\n",
    "plt.plot(np.arange(0, N), H.history[\"val_accuracy\"], label=\"val_acc\")\n",
    "plt.title(\"Training Loss and Accuracy on COVID-19 Dataset\")\n",
    "plt.xlabel(\"Epoch #\")\n",
    "plt.ylabel(\"Loss/Accuracy\")\n",
    "plt.legend(loc=\"lower left\")\n",
    "plt.savefig(args[\"plot\"])"
   ]
  },
  {
   "cell_type": "code",
   "execution_count": 23,
   "metadata": {},
   "outputs": [
    {
     "data": {
      "image/png": "[encoded data removed]",
      "text/plain": [
       "<Figure size 432x288 with 1 Axes>"
      ]
     },
     "metadata": {},
     "output_type": "display_data"
    },
    {
     "data": {
      "image/png": "[encoded data removed]",
      "text/plain": [
       "<Figure size 432x288 with 1 Axes>"
      ]
     },
     "metadata": {},
     "output_type": "display_data"
    }
   ],
   "source": [
    "plt.plot(H.history['accuracy'])\n",
    "plt.plot(H.history['val_accuracy'])\n",
    "plt.title('model accuracy')\n",
    "plt.ylabel('accuracy')\n",
    "plt.xlabel('epoch')\n",
    "plt.legend(['train', 'test'], loc='upper left')\n",
    "plt.show()\n",
    "\n",
    "plt.plot(H.history['loss'])\n",
    "plt.plot(H.history['val_loss'])\n",
    "plt.title('model loss')\n",
    "plt.ylabel('loss')\n",
    "plt.xlabel('epoch')\n",
    "plt.legend(['train', 'test'], loc='upper left')\n",
    "plt.show()"
   ]
  },
  {
   "cell_type": "code",
   "execution_count": 24,
   "metadata": {},
   "outputs": [
    {
     "name": "stdout",
     "output_type": "stream",
     "text": [
      "Confusion matrix, without normalization\n",
      "[[43  0]\n",
      " [ 1 40]]\n"
     ]
    },
    {
     "data": {
      "image/png": "[encoded data removed]",
      "text/plain": [
       "<Figure size 432x288 with 2 Axes>"
      ]
     },
     "metadata": {},
     "output_type": "display_data"
    }
   ],
   "source": [
    "def plot_confusion_matrix(cm, classes,\n",
    "                          normalize=False,\n",
    "                          title='Confusion matrix',\n",
    "                          cmap=plt.cm.Blues):\n",
    "    \n",
    "    import itertools\n",
    "    if normalize:\n",
    "        cm = cm.astype('float') / cm.sum(axis=1)[:, np.newaxis]\n",
    "        print(\"Normalized confusion matrix\")\n",
    "    else:\n",
    "        print('Confusion matrix, without normalization')\n",
    "\n",
    "    print(cm)\n",
    "\n",
    "    plt.imshow(cm, interpolation='nearest', cmap=cmap)\n",
    "    plt.title(title)\n",
    "    plt.colorbar()\n",
    "    tick_marks = np.arange(len(classes))\n",
    "    plt.xticks(tick_marks, classes, rotation=45)\n",
    "    plt.yticks(tick_marks, classes)\n",
    "\n",
    "    fmt = '.2f' if normalize else 'd'\n",
    "    thresh = cm.max() / 2.\n",
    "    for i, j in itertools.product(range(cm.shape[0]), range(cm.shape[1])):\n",
    "        plt.text(j, i, format(cm[i, j], fmt),\n",
    "                 horizontalalignment=\"center\",\n",
    "                 color=\"white\" if cm[i, j] > thresh else \"black\")\n",
    "\n",
    "    plt.ylabel('TRUE LABEL')\n",
    "    plt.xlabel('PREDICTED LABEL')\n",
    "    plt.tight_layout()\n",
    "np.set_printoptions(precision=2)\n",
    "\n",
    "# Plot non-normalized confusion matrix\n",
    "plt.figure()\n",
    "plot_confusion_matrix(cm, classes=['covid','pnemonia_virus'],\n",
    "                      title='Confusion matrix, without normalization')"
   ]
  },
  {
   "cell_type": "code",
   "execution_count": 25,
   "metadata": {},
   "outputs": [
    {
     "name": "stdout",
     "output_type": "stream",
     "text": [
      "INFO:tensorflow:Assets written to: VGGmodel(covvsvirus)/assets\n"
     ]
    }
   ],
   "source": [
    "model.save(\"VGGmodel(covvsvirus)\")"
   ]
  },
  {
   "cell_type": "code",
   "execution_count": 26,
   "metadata": {},
   "outputs": [],
   "source": [
    "from tensorflow.keras.models import save_model\n",
    "save_model(model,filepath='./VGGfinal2COvvsvir',save_format='h5')"
   ]
  },
  {
   "cell_type": "code",
   "execution_count": 27,
   "metadata": {},
   "outputs": [
    {
     "name": "stdout",
     "output_type": "stream",
     "text": [
      "[INFO] saving COVID-19 detector model...\n"
     ]
    }
   ],
   "source": [
    "print(\"[INFO] saving COVID-19 detector model...\")\n",
    "model.save(args[\"model\"], save_format=\"h5\")"
   ]
  },
  {
   "cell_type": "code",
   "execution_count": null,
   "metadata": {},
   "outputs": [],
   "source": []
  }
 ],
 "metadata": {
  "kernelspec": {
   "display_name": "Python 3",
   "language": "python",
   "name": "python3"
  },
  "language_info": {
   "codemirror_mode": {
    "name": "ipython",
    "version": 3
   },
   "file_extension": ".py",
   "mimetype": "text/x-python",
   "name": "python",
   "nbconvert_exporter": "python",
   "pygments_lexer": "ipython3",
   "version": "3.7.4"
  }
 },
 "nbformat": 4,
 "nbformat_minor": 2
}
