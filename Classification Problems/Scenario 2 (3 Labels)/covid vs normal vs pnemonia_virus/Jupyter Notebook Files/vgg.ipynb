{
 "cells": [
  {
   "cell_type": "code",
   "execution_count": 1,
   "metadata": {},
   "outputs": [],
   "source": [
    "# import the necessary packages\n",
    "from tensorflow.keras.preprocessing.image import ImageDataGenerator\n",
    "from tensorflow.keras.applications import ResNet50,InceptionResNetV2,InceptionV3, VGG16,VGG19,ResNet50V2\n",
    "from tensorflow.keras.layers import AveragePooling2D,MaxPooling2D\n",
    "from tensorflow.keras.layers import Dropout\n",
    "from tensorflow.keras.layers import Flatten\n",
    "from tensorflow.keras.layers import Dense\n",
    "from tensorflow.keras.layers import Input\n",
    "from tensorflow.keras.models import Model\n",
    "from tensorflow.keras.layers import Conv2D\n",
    "from tensorflow.keras.optimizers import Adam,SGD\n",
    "from tensorflow.keras.utils import to_categorical\n",
    "from sklearn.preprocessing import MultiLabelBinarizer\n",
    "from sklearn.model_selection import train_test_split\n",
    "from sklearn.metrics import classification_report\n",
    "from sklearn.metrics import confusion_matrix\n",
    "from imutils import paths\n",
    "import matplotlib.pyplot as plt\n",
    "import numpy as np\n",
    "import argparse\n",
    "import cv2\n",
    "import os"
   ]
  },
  {
   "cell_type": "code",
   "execution_count": 2,
   "metadata": {},
   "outputs": [],
   "source": [
    "import sys\n",
    "sys.argv[1:]\n",
    "sys.argv[1:] = '-d dataset -p plot -m model'.split()\n",
    "#args = ap.parse_args()\n",
    "#args"
   ]
  },
  {
   "cell_type": "code",
   "execution_count": 3,
   "metadata": {},
   "outputs": [],
   "source": [
    "# construct the argument parser and parse the arguments\n",
    "ap = argparse.ArgumentParser()\n",
    "ap.add_argument(\"-d\", \"--dataset\", required=True,help=\"path to input dataset\")\n",
    "ap.add_argument(\"-p\", \"--plot\", type=str, default=\"plot.png\",help=\"path to output loss/accuracy plot\")\n",
    "ap.add_argument(\"-m\", \"--model\", type=str, default=\"covid19.model\",help=\"path to output loss/accuracy plot\")\n",
    "\n",
    "args = vars(ap.parse_args())\n",
    "# initialize the initial learning rate, number of epochs to train for,\n",
    "# and batch size\n",
    "INIT_LR = 1e-3\n",
    "EPOCHS = 24\n",
    "BS = 12\n",
    "IMG_SIZE=224"
   ]
  },
  {
   "cell_type": "code",
   "execution_count": 4,
   "metadata": {},
   "outputs": [],
   "source": [
    "# grab the list of images in our dataset directory, then initialize\n",
    "# the list of data (i.e., images) and class images\n",
    "imagePaths = list(paths.list_images(args[\"dataset\"]))\n",
    "data = []\n",
    "labels = []\n",
    "# loop over the image paths\n",
    "for imagePath in imagePaths:\n",
    "\t# extract the class label from the filename\n",
    "\tlabel = imagePath.split(os.path.sep)[-2]\n",
    "\t# load the image, swap color channels, and resize it to be a fixed\n",
    "\t# 224x224 pixels while ignoring aspect ratio\n",
    "\timage = cv2.imread(imagePath)\n",
    "\t#image = cv2.cvtColor(image, cv2.COLOR_RGB2BGR)\n",
    "\timage = cv2.resize(image, (IMG_SIZE, IMG_SIZE))\n",
    "\t# update the data and labels lists, respectively\n",
    "\tdata.append(image)\n",
    "\tlabels.append(label)\n",
    "# convert the data and labels to NumPy arrays while scaling the pixel\n",
    "# intensities to the range [0, 1]\n",
    "data = np.array(data) / 255.0\n",
    "labels = np.array(labels)"
   ]
  },
  {
   "cell_type": "code",
   "execution_count": 5,
   "metadata": {},
   "outputs": [
    {
     "name": "stdout",
     "output_type": "stream",
     "text": [
      "656\n",
      "656\n"
     ]
    }
   ],
   "source": [
    "print(len(labels))\n",
    "print(len(data))"
   ]
  },
  {
   "cell_type": "code",
   "execution_count": 6,
   "metadata": {},
   "outputs": [],
   "source": [
    "# perform one-hot encoding on the label\n",
    "for idx, x in np.ndenumerate(labels):\n",
    "   if x=='covid':\n",
    "    labels[idx]=int(0)\n",
    "   if x=='pnemonia_virus':\n",
    "    labels[idx]=int(1)\n",
    "   if x=='normal':\n",
    "    labels[idx]=int(2)\n"
   ]
  },
  {
   "cell_type": "code",
   "execution_count": 7,
   "metadata": {},
   "outputs": [],
   "source": [
    "labels= labels.astype(np.integer)"
   ]
  },
  {
   "cell_type": "code",
   "execution_count": 8,
   "metadata": {},
   "outputs": [
    {
     "data": {
      "text/plain": [
       "array([1, 1, 1, 1, 1, 1, 1, 1, 1, 1, 1, 1, 1, 1, 1, 1, 1, 1, 1, 1, 1, 1,\n",
       "       1, 1, 1, 1, 1, 1, 1, 1, 1, 1, 1, 1, 1, 1, 1, 1, 1, 1, 1, 1, 1, 1,\n",
       "       1, 1, 1, 1, 1, 1, 1, 1, 1, 1, 1, 1, 1, 1, 1, 1, 1, 1, 1, 1, 1, 1,\n",
       "       1, 1, 1, 1, 1, 1, 1, 1, 1, 1, 1, 1, 1, 1, 1, 1, 1, 1, 1, 1, 1, 1,\n",
       "       1, 1, 1, 1, 1, 1, 1, 1, 1, 1, 1, 1, 1, 1, 1, 1, 1, 1, 1, 1, 1, 1,\n",
       "       1, 1, 1, 1, 1, 1, 1, 1, 1, 1, 1, 1, 1, 1, 1, 1, 1, 1, 1, 1, 1, 1,\n",
       "       1, 1, 1, 1, 1, 1, 1, 1, 1, 1, 1, 1, 1, 1, 1, 1, 1, 1, 1, 1, 1, 1,\n",
       "       1, 1, 1, 1, 1, 1, 1, 1, 1, 1, 1, 1, 1, 1, 1, 1, 1, 1, 1, 1, 1, 1,\n",
       "       1, 1, 1, 1, 1, 1, 1, 1, 1, 1, 1, 1, 1, 1, 1, 1, 1, 1, 1, 1, 1, 1,\n",
       "       1, 1, 1, 1, 1, 1, 1, 1, 2, 2, 2, 2, 2, 2, 2, 2, 2, 2, 2, 2, 2, 2,\n",
       "       2, 2, 2, 2, 2, 2, 2, 2, 2, 2, 2, 2, 2, 2, 2, 2, 2, 2, 2, 2, 2, 2,\n",
       "       2, 2, 2, 2, 2, 2, 2, 2, 2, 2, 2, 2, 2, 2, 2, 2, 2, 2, 2, 2, 2, 2,\n",
       "       2, 2, 2, 2, 2, 2, 2, 2, 2, 2, 2, 2, 2, 2, 2, 2, 2, 2, 2, 2, 2, 2,\n",
       "       2, 2, 2, 2, 2, 2, 2, 2, 2, 2, 2, 2, 2, 2, 2, 2, 2, 2, 2, 2, 2, 2,\n",
       "       2, 2, 2, 2, 2, 2, 2, 2, 2, 2, 2, 2, 2, 2, 2, 2, 2, 2, 2, 2, 2, 2,\n",
       "       2, 2, 2, 2, 2, 2, 2, 2, 2, 2, 2, 2, 2, 2, 2, 2, 2, 2, 2, 2, 2, 2,\n",
       "       2, 2, 2, 2, 2, 2, 2, 2, 2, 2, 2, 2, 2, 2, 2, 2, 2, 2, 2, 2, 2, 2,\n",
       "       2, 2, 2, 2, 2, 2, 2, 2, 2, 2, 2, 2, 2, 2, 2, 2, 2, 2, 2, 2, 2, 2,\n",
       "       2, 2, 2, 2, 2, 2, 2, 2, 2, 2, 2, 2, 2, 2, 2, 2, 2, 2, 2, 2, 2, 2,\n",
       "       2, 2, 2, 2, 2, 2, 2, 2, 2, 2, 2, 2, 2, 2, 2, 2, 2, 2, 2, 2, 2, 2,\n",
       "       2, 2, 0, 0, 0, 0, 0, 0, 0, 0, 0, 0, 0, 0, 0, 0, 0, 0, 0, 0, 0, 0,\n",
       "       0, 0, 0, 0, 0, 0, 0, 0, 0, 0, 0, 0, 0, 0, 0, 0, 0, 0, 0, 0, 0, 0,\n",
       "       0, 0, 0, 0, 0, 0, 0, 0, 0, 0, 0, 0, 0, 0, 0, 0, 0, 0, 0, 0, 0, 0,\n",
       "       0, 0, 0, 0, 0, 0, 0, 0, 0, 0, 0, 0, 0, 0, 0, 0, 0, 0, 0, 0, 0, 0,\n",
       "       0, 0, 0, 0, 0, 0, 0, 0, 0, 0, 0, 0, 0, 0, 0, 0, 0, 0, 0, 0, 0, 0,\n",
       "       0, 0, 0, 0, 0, 0, 0, 0, 0, 0, 0, 0, 0, 0, 0, 0, 0, 0, 0, 0, 0, 0,\n",
       "       0, 0, 0, 0, 0, 0, 0, 0, 0, 0, 0, 0, 0, 0, 0, 0, 0, 0, 0, 0, 0, 0,\n",
       "       0, 0, 0, 0, 0, 0, 0, 0, 0, 0, 0, 0, 0, 0, 0, 0, 0, 0, 0, 0, 0, 0,\n",
       "       0, 0, 0, 0, 0, 0, 0, 0, 0, 0, 0, 0, 0, 0, 0, 0, 0, 0, 0, 0, 0, 0,\n",
       "       0, 0, 0, 0, 0, 0, 0, 0, 0, 0, 0, 0, 0, 0, 0, 0, 0, 0])"
      ]
     },
     "execution_count": 8,
     "metadata": {},
     "output_type": "execute_result"
    }
   ],
   "source": [
    "labels"
   ]
  },
  {
   "cell_type": "code",
   "execution_count": 9,
   "metadata": {},
   "outputs": [
    {
     "name": "stdout",
     "output_type": "stream",
     "text": [
      "656\n"
     ]
    },
    {
     "data": {
      "text/plain": [
       "4"
      ]
     },
     "execution_count": 9,
     "metadata": {},
     "output_type": "execute_result"
    }
   ],
   "source": [
    "print(len(data))\n",
    "data.ndim"
   ]
  },
  {
   "cell_type": "code",
   "execution_count": 10,
   "metadata": {},
   "outputs": [
    {
     "name": "stdout",
     "output_type": "stream",
     "text": [
      "524\n",
      "132\n",
      "524\n",
      "132\n"
     ]
    }
   ],
   "source": [
    "# partition the data into training and testing splits using 80% of\n",
    "# the data for training and the remaining 20% for testing\n",
    "\n",
    "(trainX, testX, trainY, testY) = train_test_split(data, labels,test_size=0.20, stratify=labels, random_state=42)\n",
    "print(len(trainX))\n",
    "print(len(testX))\n",
    "print(len(trainY))\n",
    "print(len(testY))"
   ]
  },
  {
   "cell_type": "code",
   "execution_count": 11,
   "metadata": {},
   "outputs": [
    {
     "data": {
      "text/plain": [
       "array([0, 0, 0, 0, 2, 0, 0, 0, 2, 2, 0, 2, 1, 2, 2, 1, 2, 1, 1, 1, 1, 1,\n",
       "       0, 2, 0, 2, 1, 2, 0, 2, 1, 0, 2, 1, 1, 0, 1, 2, 1, 0, 2, 1, 2, 2,\n",
       "       1, 1, 2, 2, 1, 2, 0, 2, 2, 1, 1, 2, 0, 2, 0, 0, 1, 1, 0, 2, 0, 2,\n",
       "       2, 2, 1, 1, 2, 0, 0, 0, 0, 1, 1, 2, 2, 0, 0, 1, 1, 2, 0, 0, 2, 2,\n",
       "       1, 2, 2, 0, 2, 1, 1, 2, 2, 2, 0, 0, 0, 2, 0, 1, 0, 2, 1, 1, 1, 2,\n",
       "       0, 1, 1, 2, 1, 0, 0, 2, 0, 2, 1, 0, 0, 0, 1, 2, 0, 2, 1, 0, 2, 1])"
      ]
     },
     "execution_count": 11,
     "metadata": {},
     "output_type": "execute_result"
    }
   ],
   "source": [
    "testY"
   ]
  },
  {
   "cell_type": "code",
   "execution_count": 12,
   "metadata": {},
   "outputs": [],
   "source": [
    "# initialize the training data augmentation object\n",
    "trainAug = ImageDataGenerator(\n",
    "\trotation_range=15,\n",
    "\tfill_mode=\"nearest\")"
   ]
  },
  {
   "cell_type": "code",
   "execution_count": 21,
   "metadata": {},
   "outputs": [],
   "source": [
    "## load the VGG16 network, ensuring the head FC layer sets are left\n",
    "# off\n",
    "baseModel= VGG16(weights='imagenet', include_top=False,\n",
    "\tinput_tensor=Input(shape=(IMG_SIZE, IMG_SIZE,3)), )\n",
    "# construct the head of the model that will be placed on top of the\n",
    "# the base model\n",
    "headModel = baseModel.output\n",
    "headModel = AveragePooling2D(pool_size=(2, 2))(headModel)\n",
    "headModel = Flatten(name=\"flatten\")(headModel)\n",
    "headModel = Dense(64, activation=\"relu\")(headModel)\n",
    "headModel = Dropout(0.5)(headModel)\n",
    "headModel = Dense(3, activation=\"sigmoid\")(headModel)\n",
    "# place the head FC model on top of the base model (this will become\n",
    "# the actual model we will train)\n",
    "model_2 = Model(inputs=baseModel.input, outputs=headModel)\n",
    "\n",
    "# loop over all layers in the base model and freeze them so they will\n",
    "# *not* be updated during the first training process\n",
    "for layer in baseModel.layers:\n",
    "\tlayer.trainable = False\n",
    "\n"
   ]
  },
  {
   "cell_type": "code",
   "execution_count": 22,
   "metadata": {},
   "outputs": [
    {
     "name": "stdout",
     "output_type": "stream",
     "text": [
      "[INFO] compiling model...\n",
      "[INFO] training head...\n",
      "WARNING:tensorflow:`period` argument is deprecated. Please use `save_freq` to specify the frequency in number of batches seen.\n",
      "WARNING:tensorflow:From <ipython-input-22-4e26e5e43a70>:17: Model.fit_generator (from tensorflow.python.keras.engine.training) is deprecated and will be removed in a future version.\n",
      "Instructions for updating:\n",
      "Please use Model.fit, which supports generators.\n",
      "Epoch 1/24\n",
      "43/43 [==============================] - ETA: 0s - loss: 0.9389 - accuracy: 0.5310\n",
      "Epoch 00001: loss improved from inf to 0.93895, saving model to 3classVGG.hdf5\n",
      "43/43 [==============================] - 79s 2s/step - loss: 0.9389 - accuracy: 0.5310 - val_loss: 0.6502 - val_accuracy: 0.8409\n",
      "Epoch 2/24\n",
      "43/43 [==============================] - ETA: 0s - loss: 0.5995 - accuracy: 0.7793\n",
      "Epoch 00002: loss improved from 0.93895 to 0.59945, saving model to 3classVGG.hdf5\n",
      "43/43 [==============================] - 84s 2s/step - loss: 0.5995 - accuracy: 0.7793 - val_loss: 0.3947 - val_accuracy: 0.9470\n",
      "Epoch 3/24\n",
      "43/43 [==============================] - ETA: 0s - loss: 0.5069 - accuracy: 0.7930\n",
      "Epoch 00003: loss improved from 0.59945 to 0.50688, saving model to 3classVGG.hdf5\n",
      "43/43 [==============================] - 88s 2s/step - loss: 0.5069 - accuracy: 0.7930 - val_loss: 0.3789 - val_accuracy: 0.8636\n",
      "Epoch 4/24\n",
      "43/43 [==============================] - ETA: 0s - loss: 0.4326 - accuracy: 0.8398\n",
      "Epoch 00004: loss improved from 0.50688 to 0.43265, saving model to 3classVGG.hdf5\n",
      "43/43 [==============================] - 97s 2s/step - loss: 0.4326 - accuracy: 0.8398 - val_loss: 0.2969 - val_accuracy: 0.8864\n",
      "Epoch 5/24\n",
      "43/43 [==============================] - ETA: 0s - loss: 0.3649 - accuracy: 0.8711\n",
      "Epoch 00005: loss improved from 0.43265 to 0.36485, saving model to 3classVGG.hdf5\n",
      "43/43 [==============================] - 114s 3s/step - loss: 0.3649 - accuracy: 0.8711 - val_loss: 0.3325 - val_accuracy: 0.8636\n",
      "Epoch 6/24\n",
      "43/43 [==============================] - ETA: 0s - loss: 0.4170 - accuracy: 0.8516\n",
      "Epoch 00006: loss did not improve from 0.36485\n",
      "43/43 [==============================] - 116s 3s/step - loss: 0.4170 - accuracy: 0.8516 - val_loss: 0.2065 - val_accuracy: 0.9621\n",
      "Epoch 7/24\n",
      "43/43 [==============================] - ETA: 0s - loss: 0.3004 - accuracy: 0.8887\n",
      "Epoch 00007: loss improved from 0.36485 to 0.30040, saving model to 3classVGG.hdf5\n",
      "43/43 [==============================] - 118s 3s/step - loss: 0.3004 - accuracy: 0.8887 - val_loss: 0.2489 - val_accuracy: 0.8864\n",
      "Epoch 8/24\n",
      "43/43 [==============================] - ETA: 0s - loss: 0.3246 - accuracy: 0.8828\n",
      "Epoch 00008: loss did not improve from 0.30040\n",
      "43/43 [==============================] - 122s 3s/step - loss: 0.3246 - accuracy: 0.8828 - val_loss: 0.2218 - val_accuracy: 0.9545\n",
      "Epoch 9/24\n",
      "43/43 [==============================] - ETA: 0s - loss: 0.2735 - accuracy: 0.9023\n",
      "Epoch 00009: loss improved from 0.30040 to 0.27346, saving model to 3classVGG.hdf5\n",
      "43/43 [==============================] - 124s 3s/step - loss: 0.2735 - accuracy: 0.9023 - val_loss: 0.1782 - val_accuracy: 0.9470\n",
      "Epoch 10/24\n",
      "43/43 [==============================] - ETA: 0s - loss: 0.2951 - accuracy: 0.9004\n",
      "Epoch 00010: loss did not improve from 0.27346\n",
      "43/43 [==============================] - 116s 3s/step - loss: 0.2951 - accuracy: 0.9004 - val_loss: 0.1864 - val_accuracy: 0.9621\n",
      "Epoch 11/24\n",
      "43/43 [==============================] - ETA: 0s - loss: 0.2537 - accuracy: 0.9121\n",
      "Epoch 00011: loss improved from 0.27346 to 0.25375, saving model to 3classVGG.hdf5\n",
      "43/43 [==============================] - 111s 3s/step - loss: 0.2537 - accuracy: 0.9121 - val_loss: 0.2303 - val_accuracy: 0.8864\n",
      "Epoch 12/24\n",
      "43/43 [==============================] - ETA: 0s - loss: 0.2363 - accuracy: 0.9160\n",
      "Epoch 00012: loss improved from 0.25375 to 0.23634, saving model to 3classVGG.hdf5\n",
      "43/43 [==============================] - 107s 2s/step - loss: 0.2363 - accuracy: 0.9160 - val_loss: 0.1537 - val_accuracy: 0.9621\n",
      "Epoch 13/24\n",
      "43/43 [==============================] - ETA: 0s - loss: 0.2037 - accuracy: 0.9219\n",
      "Epoch 00013: loss improved from 0.23634 to 0.20372, saving model to 3classVGG.hdf5\n",
      "43/43 [==============================] - 101s 2s/step - loss: 0.2037 - accuracy: 0.9219 - val_loss: 0.1489 - val_accuracy: 0.9621\n",
      "Epoch 14/24\n",
      "43/43 [==============================] - ETA: 0s - loss: 0.2192 - accuracy: 0.9238\n",
      "Epoch 00014: loss did not improve from 0.20372\n",
      "43/43 [==============================] - 102s 2s/step - loss: 0.2192 - accuracy: 0.9238 - val_loss: 0.1765 - val_accuracy: 0.9394\n",
      "Epoch 15/24\n",
      "43/43 [==============================] - ETA: 0s - loss: 0.2017 - accuracy: 0.9297\n",
      "Epoch 00015: loss improved from 0.20372 to 0.20171, saving model to 3classVGG.hdf5\n",
      "43/43 [==============================] - 110s 3s/step - loss: 0.2017 - accuracy: 0.9297 - val_loss: 0.1530 - val_accuracy: 0.9621\n",
      "Epoch 16/24\n",
      "43/43 [==============================] - ETA: 0s - loss: 0.1920 - accuracy: 0.9355\n",
      "Epoch 00016: loss improved from 0.20171 to 0.19196, saving model to 3classVGG.hdf5\n",
      "43/43 [==============================] - 111s 3s/step - loss: 0.1920 - accuracy: 0.9355 - val_loss: 0.1436 - val_accuracy: 0.9621\n",
      "Epoch 17/24\n",
      "43/43 [==============================] - ETA: 0s - loss: 0.1878 - accuracy: 0.9355\n",
      "Epoch 00017: loss improved from 0.19196 to 0.18776, saving model to 3classVGG.hdf5\n",
      "43/43 [==============================] - 109s 3s/step - loss: 0.1878 - accuracy: 0.9355 - val_loss: 0.1475 - val_accuracy: 0.9621\n",
      "Epoch 18/24\n",
      "43/43 [==============================] - ETA: 0s - loss: 0.1758 - accuracy: 0.9258\n",
      "Epoch 00018: loss improved from 0.18776 to 0.17583, saving model to 3classVGG.hdf5\n",
      "43/43 [==============================] - 113s 3s/step - loss: 0.1758 - accuracy: 0.9258 - val_loss: 0.1553 - val_accuracy: 0.9545\n",
      "Epoch 19/24\n",
      "43/43 [==============================] - ETA: 0s - loss: 0.1668 - accuracy: 0.9258\n",
      "Epoch 00019: loss improved from 0.17583 to 0.16675, saving model to 3classVGG.hdf5\n",
      "43/43 [==============================] - 111s 3s/step - loss: 0.1668 - accuracy: 0.9258 - val_loss: 0.1469 - val_accuracy: 0.9621\n",
      "Epoch 20/24\n",
      "43/43 [==============================] - ETA: 0s - loss: 0.1600 - accuracy: 0.9316\n",
      "Epoch 00020: loss improved from 0.16675 to 0.15996, saving model to 3classVGG.hdf5\n",
      "43/43 [==============================] - 113s 3s/step - loss: 0.1600 - accuracy: 0.9316 - val_loss: 0.1432 - val_accuracy: 0.9545\n",
      "Epoch 21/24\n",
      "43/43 [==============================] - ETA: 0s - loss: 0.1432 - accuracy: 0.9355\n",
      "Epoch 00021: loss improved from 0.15996 to 0.14318, saving model to 3classVGG.hdf5\n",
      "43/43 [==============================] - 114s 3s/step - loss: 0.1432 - accuracy: 0.9355 - val_loss: 0.1429 - val_accuracy: 0.9621\n",
      "Epoch 22/24\n",
      "43/43 [==============================] - ETA: 0s - loss: 0.1677 - accuracy: 0.9414\n",
      "Epoch 00022: loss did not improve from 0.14318\n",
      "43/43 [==============================] - 111s 3s/step - loss: 0.1677 - accuracy: 0.9414 - val_loss: 0.1409 - val_accuracy: 0.9621\n",
      "Epoch 23/24\n",
      "43/43 [==============================] - ETA: 0s - loss: 0.1535 - accuracy: 0.9473\n",
      "Epoch 00023: loss did not improve from 0.14318\n",
      "43/43 [==============================] - 116s 3s/step - loss: 0.1535 - accuracy: 0.9473 - val_loss: 0.1386 - val_accuracy: 0.9621\n",
      "Epoch 24/24\n",
      "43/43 [==============================] - ETA: 0s - loss: 0.1324 - accuracy: 0.9492\n",
      "Epoch 00024: loss improved from 0.14318 to 0.13238, saving model to 3classVGG.hdf5\n",
      "43/43 [==============================] - 112s 3s/step - loss: 0.1324 - accuracy: 0.9492 - val_loss: 0.1381 - val_accuracy: 0.9621\n"
     ]
    }
   ],
   "source": [
    "# compile our model\n",
    "print(\"[INFO] compiling model...\")\n",
    "opt = Adam(lr=0.001, decay=INIT_LR / 25)\n",
    "model_2.compile(loss=\"SparseCategoricalCrossentropy\", optimizer=opt,\n",
    "\tmetrics=[\"accuracy\"])\n",
    "# train the head of the network\n",
    "print(\"[INFO] training head...\")\n",
    "from tensorflow.keras.callbacks import ModelCheckpoint\n",
    "import math\n",
    "checkpoint = ModelCheckpoint(\"3classVGG.hdf5\", monitor='loss', verbose=1,\n",
    "                             save_best_only=True, mode='auto', period=1)\n",
    "H = model_2.fit_generator(\n",
    "\ttrainAug.flow(trainX, trainY, batch_size=BS),\n",
    "\tsteps_per_epoch=math.floor(len(trainX)/BS),\n",
    "\tvalidation_data=(testX, testY),\n",
    "\tvalidation_steps=math.floor(len(testX)/BS),\n",
    "\tepochs=EPOCHS,callbacks=[checkpoint])"
   ]
  },
  {
   "cell_type": "code",
   "execution_count": 23,
   "metadata": {},
   "outputs": [
    {
     "data": {
      "image/png": "[encoded data removed]",
      "text/plain": [
       "<Figure size 432x288 with 1 Axes>"
      ]
     },
     "metadata": {},
     "output_type": "display_data"
    }
   ],
   "source": [
    "# plot the training loss and accuracy\n",
    "N = EPOCHS\n",
    "plt.style.use(\"ggplot\")\n",
    "plt.figure()\n",
    "plt.plot(np.arange(0, N), H.history[\"loss\"], label=\"train_loss\")\n",
    "plt.plot(np.arange(0, N), H.history[\"val_loss\"], label=\"val_loss\")\n",
    "plt.plot(np.arange(0, N), H.history[\"accuracy\"], label=\"train_acc\")\n",
    "plt.plot(np.arange(0, N), H.history[\"val_accuracy\"], label=\"val_acc\")\n",
    "plt.title(\"Training Loss and Accuracy on COVID-19 Dataset\")\n",
    "plt.xlabel(\"Epoch #\")\n",
    "plt.ylabel(\"Loss/Accuracy\")\n",
    "plt.legend(loc=\"lower left\")\n",
    "plt.savefig(args[\"plot\"])"
   ]
  },
  {
   "cell_type": "code",
   "execution_count": 24,
   "metadata": {},
   "outputs": [
    {
     "data": {
      "image/png": "[encoded data removed]",
      "text/plain": [
       "<Figure size 432x288 with 1 Axes>"
      ]
     },
     "metadata": {},
     "output_type": "display_data"
    },
    {
     "data": {
      "image/png": "[encoded data removed]",
      "text/plain": [
       "<Figure size 432x288 with 1 Axes>"
      ]
     },
     "metadata": {},
     "output_type": "display_data"
    }
   ],
   "source": [
    "plt.plot(H.history['accuracy'])\n",
    "plt.plot(H.history['val_accuracy'])\n",
    "plt.title('model accuracy')\n",
    "plt.ylabel('accuracy')\n",
    "plt.xlabel('epoch')\n",
    "plt.legend(['train', 'test'], loc='upper left')\n",
    "plt.show()\n",
    "\n",
    "plt.plot(H.history['loss'])\n",
    "plt.plot(H.history['val_loss'])\n",
    "plt.title('model loss')\n",
    "plt.ylabel('loss')\n",
    "plt.xlabel('epoch')\n",
    "plt.legend(['train', 'test'], loc='upper left')\n",
    "plt.show()\n",
    "\n"
   ]
  },
  {
   "cell_type": "code",
   "execution_count": 25,
   "metadata": {},
   "outputs": [
    {
     "name": "stdout",
     "output_type": "stream",
     "text": [
      "[INFO] evaluating network...\n",
      "                precision    recall  f1-score   support\n",
      "\n",
      "         covid       0.98      1.00      0.99        43\n",
      "pnemonia_virus       0.97      0.93      0.95        41\n",
      "        normal       0.94      0.96      0.95        48\n",
      "\n",
      "      accuracy                           0.96       132\n",
      "     macro avg       0.96      0.96      0.96       132\n",
      "  weighted avg       0.96      0.96      0.96       132\n",
      "\n"
     ]
    }
   ],
   "source": [
    "# make predictions on the testing set\n",
    "print(\"[INFO] evaluating network...\")\n",
    "predIdxs = model_2.predict(testX, batch_size=BS)\n",
    "# for each image in the testing set we need to find the index of the\n",
    "# label with corresponding largest predicted probability\n",
    "predIdxs = np.argmax(predIdxs, axis=1)\n",
    "# show a nicely formatted classification report\n",
    "print(classification_report(testY, predIdxs, target_names=['covid','pnemonia_virus','normal']))"
   ]
  },
  {
   "cell_type": "code",
   "execution_count": 26,
   "metadata": {},
   "outputs": [
    {
     "name": "stdout",
     "output_type": "stream",
     "text": [
      "[[43  0  0]\n",
      " [ 0 38  3]\n",
      " [ 1  1 46]]\n",
      "acc: 0.9621\n"
     ]
    }
   ],
   "source": [
    "cm = confusion_matrix(testY, predIdxs)\n",
    "total = sum(sum(cm)) \n",
    "acc = (cm[0, 0] + cm[1, 1]+cm[2, 2]) / total\n",
    "sensitivity = cm[0, 0] / (cm[0, 0] + cm[0, 1]+cm[0,2])\n",
    "specificity = cm[1, 1]+cm[2,2] / (cm[1, 0] + cm[1, 1]+cm[1,2]+cm[2,0]+cm[2,1]+cm[2,2])\n",
    "\n",
    "print(cm)\n",
    "print(\"acc: {:.4f}\".format\n",
    "      (acc))\n",
    "#print(\"sensitivity: {:.4f}\".format(sensitivity))\n",
    "#print(\"specificity: {:.4f}\".format(specificity))"
   ]
  },
  {
   "cell_type": "code",
   "execution_count": 27,
   "metadata": {},
   "outputs": [
    {
     "name": "stdout",
     "output_type": "stream",
     "text": [
      "Confusion matrix, without normalization\n",
      "[[43  0  0]\n",
      " [ 0 38  3]\n",
      " [ 1  1 46]]\n"
     ]
    },
    {
     "data": {
      "image/png": "[encoded data removed]",
      "text/plain": [
       "<Figure size 432x288 with 2 Axes>"
      ]
     },
     "metadata": {},
     "output_type": "display_data"
    }
   ],
   "source": [
    "def plot_confusion_matrix(cm, classes,\n",
    "                          normalize=False,\n",
    "                          title='Confusion matrix',\n",
    "                          cmap=plt.cm.Blues):\n",
    "    \n",
    "    import itertools\n",
    "    if normalize:\n",
    "        cm = cm.astype('float') / cm.sum(axis=1)[:, np.newaxis]\n",
    "        print(\"Normalized confusion matrix\")\n",
    "    else:\n",
    "        print('Confusion matrix, without normalization')\n",
    "\n",
    "    print(cm)\n",
    "\n",
    "    plt.imshow(cm, interpolation='nearest', cmap=cmap)\n",
    "    plt.title(title)\n",
    "    plt.colorbar()\n",
    "    tick_marks = np.arange(len(classes))\n",
    "    plt.xticks(tick_marks, classes, rotation=45)\n",
    "    plt.yticks(tick_marks, classes)\n",
    "\n",
    "    fmt = '.2f' if normalize else 'd'\n",
    "    thresh = cm.max() / 2.\n",
    "    for i, j in itertools.product(range(cm.shape[0]), range(cm.shape[1])):\n",
    "        plt.text(j, i, format(cm[i, j], fmt),\n",
    "                 horizontalalignment=\"center\",\n",
    "                 color=\"white\" if cm[i, j] > thresh else \"black\")\n",
    "\n",
    "    plt.ylabel('TRUE LABEL')\n",
    "    plt.xlabel('PREDICTED LABEL')\n",
    "    plt.tight_layout()\n",
    "np.set_printoptions(precision=2)\n",
    "\n",
    "# Plot non-normalized confusion matrix\n",
    "plt.figure()\n",
    "plot_confusion_matrix(cm, classes=['covid','pnemonia_virus','normal'],\n",
    "                      title='Confusion matrix, without normalization')"
   ]
  },
  {
   "cell_type": "code",
   "execution_count": 28,
   "metadata": {},
   "outputs": [
    {
     "name": "stdout",
     "output_type": "stream",
     "text": [
      "INFO:tensorflow:Assets written to: VGGmodel3cl/assets\n"
     ]
    }
   ],
   "source": [
    "model_2.save(\"VGGmodel3cl\")"
   ]
  },
  {
   "cell_type": "code",
   "execution_count": null,
   "metadata": {},
   "outputs": [],
   "source": []
  },
  {
   "cell_type": "code",
   "execution_count": null,
   "metadata": {},
   "outputs": [],
   "source": []
  }
 ],
 "metadata": {
  "kernelspec": {
   "display_name": "Python 3",
   "language": "python",
   "name": "python3"
  },
  "language_info": {
   "codemirror_mode": {
    "name": "ipython",
    "version": 3
   },
   "file_extension": ".py",
   "mimetype": "text/x-python",
   "name": "python",
   "nbconvert_exporter": "python",
   "pygments_lexer": "ipython3",
   "version": "3.7.4"
  }
 },
 "nbformat": 4,
 "nbformat_minor": 2
}
